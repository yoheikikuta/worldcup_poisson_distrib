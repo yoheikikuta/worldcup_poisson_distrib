{
 "cells": [
  {
   "cell_type": "code",
   "execution_count": 1,
   "metadata": {
    "collapsed": true
   },
   "outputs": [],
   "source": [
    "%matplotlib inline\n",
    "\n",
    "import pandas as pd\n",
    "import numpy as np\n",
    "import scipy as sp\n",
    "from scipy import stats\n",
    "from matplotlib import pyplot as plt\n",
    "from scipy import interpolate"
   ]
  },
  {
   "cell_type": "code",
   "execution_count": 2,
   "metadata": {
    "collapsed": false
   },
   "outputs": [],
   "source": [
    "data = pd.read_csv(\"./worldcup_scores.csv\")"
   ]
  },
  {
   "cell_type": "markdown",
   "metadata": {},
   "source": [
    "## Total"
   ]
  },
  {
   "cell_type": "code",
   "execution_count": 3,
   "metadata": {
    "collapsed": false
   },
   "outputs": [],
   "source": [
    "all_scores = []\n",
    "\n",
    "all_scores.extend( data['GOALS_1'] )\n",
    "all_scores.extend( data['GOALS_2'] )\n",
    "all_scores = np.array(all_scores)"
   ]
  },
  {
   "cell_type": "code",
   "execution_count": 4,
   "metadata": {
    "collapsed": false
   },
   "outputs": [],
   "source": [
    "def simulate_poisson(counts, title, N=None):\n",
    "    '''\n",
    "    input:\n",
    "        counts: numpy array for number of goals\n",
    "        title: str for the plot title and the filename\n",
    "        N: summary above N-1 goals for calculating chi-squres. if N is None, use all bins separately\n",
    "    return:\n",
    "        save the plot\n",
    "    '''\n",
    "    mu = np.mean(counts)\n",
    "    max_v = np.max(counts)\n",
    "    max_freq = np.max( np.bincount(counts) )\n",
    "    sigma = sp.sqrt(mu)\n",
    "    mu_plus_sigma = mu + sigma\n",
    "\n",
    "    # Bins for the histogram: [0,1), [1, 2), ..., [max(counts), max(counts)+1]\n",
    "    bins = range(0, max(counts)+2)\n",
    "\n",
    "    # Histogram\n",
    "    plt.hist(counts, bins=bins, align=\"left\", histtype=\"step\", color=\"black\")\n",
    "\n",
    "    # Create Poisson distribution for given mu and do chisqured test\n",
    "    x = range(0, max_v+1)\n",
    "    prob = stats.poisson.pmf(x, mu)*len(counts)\n",
    "    if not N:\n",
    "        # Use all bins\n",
    "        chisq, p_value = stats.chisquare(\n",
    "            np.bincount(counts)\n",
    "            , prob\n",
    "            , len(x) - 1 - 1\n",
    "        )\n",
    "    elif N:\n",
    "        # Summarize above N goals bins\n",
    "        chisq, p_value = stats.chisquare(\n",
    "            list(np.bincount(counts))[0:N] + [sum(list(np.bincount(counts))[N:])]\n",
    "            , list(prob[0:N]) + [sum(prob[N:])]\n",
    "            , N -1\n",
    "        )\n",
    "\n",
    "    # Plot the PMF.\n",
    "    plt.plot(x, prob, \"o\", color=\"blue\")\n",
    "\n",
    "    # Draw a smooth curve through the PMF.\n",
    "    l = sp.linspace(0,max_v,len(counts))\n",
    "    s = interpolate.spline(x, prob, l)\n",
    "    plt.plot(l,s,color=\"blue\")\n",
    "\n",
    "    plt.xlabel(\"Number of goals for one team\")\n",
    "    plt.ylabel(\"Number of occurrences (Poisson)\")\n",
    "\n",
    "    # Interpolated probability at x = μ + σ; for marking σ in the graph.\n",
    "    xx = sp.searchsorted(l,mu_plus_sigma) - 1\n",
    "    v = ((s[xx+1] -  s[xx])/(l[xx+1]-l[xx])) * (mu_plus_sigma - l[xx])\n",
    "    v += s[xx]\n",
    "\n",
    "    ax = plt.gca()\n",
    "    # Reset axis range and ticks.\n",
    "    ax.axis([-0.5,max_v+1, 0, max_freq])\n",
    "    ax.set_xticks(range(1,max_v+1))\n",
    "    ax.set_yticks(range(0,int(max( max_freq, max(prob))*1.2), max(max_freq // 10,1)))\n",
    "\n",
    "    # Draw arrow and then place an opaque box with μ in it.\n",
    "    ax.annotate(\"\", xy=(mu,max_freq // 1.05), xycoords=\"data\", xytext=(mu, 0),textcoords=\"data\", arrowprops=dict(arrowstyle=\"->\",connectionstyle=\"arc3\"))\n",
    "    bbox_props = dict(boxstyle=\"round\", fc=\"w\", ec=\"w\")\n",
    "    ax.text(mu, max_freq // 3, r\"$\\mu$={}\".format(round(mu,2)), va=\"center\", ha=\"center\",size=15, bbox=bbox_props)\n",
    "\n",
    "    # Draw arrow and then place an opaque box with σ in it.\n",
    "    ax.annotate(\"\", xy=(mu,v), xytext=(mu_plus_sigma,v),arrowprops=dict(arrowstyle=\"<->\", connectionstyle=\"arc3\"))\n",
    "    bbox_props = dict(boxstyle=\"round\", fc=\"w\", ec=\"w\")\n",
    "    ax.text(mu+(sigma/2.0), v, r\"$\\sigma$\", va=\"center\", ha=\"center\",size=15, bbox=bbox_props)\n",
    "\n",
    "    # Refresh plot and save figure.\n",
    "    plt.title(\"{}, p-value: %.4g\".format(title)%p_value)\n",
    "    plt.draw()\n",
    "    plt.savefig(\"./result_each_team/{}.png\".format(title), dpi=500)"
   ]
  },
  {
   "cell_type": "code",
   "execution_count": 5,
   "metadata": {
    "collapsed": false
   },
   "outputs": [
    {
     "data": {
      "image/png": "[encoded data removed]",
      "text/plain": [
       "<matplotlib.figure.Figure at 0x10c2b4518>"
      ]
     },
     "metadata": {},
     "output_type": "display_data"
    }
   ],
   "source": [
    "simulate_poisson(all_scores,\"All years\", N=4)"
   ]
  },
  {
   "cell_type": "markdown",
   "metadata": {},
   "source": [
    "## Each year"
   ]
  },
  {
   "cell_type": "code",
   "execution_count": 6,
   "metadata": {
    "collapsed": false
   },
   "outputs": [
    {
     "name": "stdout",
     "output_type": "stream",
     "text": [
      "CPU times: user 23.9 s, sys: 318 ms, total: 24.2 s\n",
      "Wall time: 24.6 s\n"
     ]
    }
   ],
   "source": [
    "%%time\n",
    "\n",
    "EACH_YEAR = np.unique( data['YEAR'] )\n",
    "\n",
    "for e in EACH_YEAR:\n",
    "    each_year_data = data[ data['YEAR'] == e ]\n",
    "\n",
    "    each_year_score = []\n",
    "    each_year_score.extend(each_year_data['GOALS_1'])\n",
    "    each_year_score.extend(each_year_data['GOALS_2'])\n",
    "    \n",
    "    simulate_poisson(each_year_score, str(e), N=4)\n",
    "    plt.close()"
   ]
  },
  {
   "cell_type": "code",
   "execution_count": null,
   "metadata": {
    "collapsed": true
   },
   "outputs": [],
   "source": []
  }
 ],
 "metadata": {
  "kernelspec": {
   "display_name": "Python 3",
   "language": "python",
   "name": "python3"
  },
  "language_info": {
   "codemirror_mode": {
    "name": "ipython",
    "version": 3
   },
   "file_extension": ".py",
   "mimetype": "text/x-python",
   "name": "python",
   "nbconvert_exporter": "python",
   "pygments_lexer": "ipython3",
   "version": "3.5.2"
  }
 },
 "nbformat": 4,
 "nbformat_minor": 2
}
